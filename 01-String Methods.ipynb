{
 "cells": [
  {
   "cell_type": "markdown",
   "id": "71b3a7bd",
   "metadata": {},
   "source": [
    "## String Methods"
   ]
  },
  {
   "cell_type": "markdown",
   "id": "236e73a0",
   "metadata": {},
   "source": [
    "capitalize(): Convert to first character to upper case."
   ]
  },
  {
   "cell_type": "code",
   "execution_count": 10,
   "id": "a2896951",
   "metadata": {},
   "outputs": [],
   "source": [
    "text = \"Clarusway IT School\""
   ]
  },
  {
   "cell_type": "code",
   "execution_count": 11,
   "id": "81e79609",
   "metadata": {},
   "outputs": [
    {
     "data": {
      "text/plain": [
       "'Clarusway it school'"
      ]
     },
     "execution_count": 11,
     "metadata": {},
     "output_type": "execute_result"
    }
   ],
   "source": [
    "text.capitalize()"
   ]
  },
  {
   "cell_type": "code",
   "execution_count": null,
   "id": "5a78701d",
   "metadata": {},
   "outputs": [],
   "source": []
  }
 ],
 "metadata": {
  "kernelspec": {
   "display_name": "Python 3 (ipykernel)",
   "language": "python",
   "name": "python3"
  },
  "language_info": {
   "codemirror_mode": {
    "name": "ipython",
    "version": 3
   },
   "file_extension": ".py",
   "mimetype": "text/x-python",
   "name": "python",
   "nbconvert_exporter": "python",
   "pygments_lexer": "ipython3",
   "version": "3.9.7"
  }
 },
 "nbformat": 4,
 "nbformat_minor": 5
}
